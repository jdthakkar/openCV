{
 "cells": [
  {
   "cell_type": "code",
   "execution_count": 1,
   "id": "2aba6db1-253e-4af7-a3c0-32ca7edc43e8",
   "metadata": {},
   "outputs": [],
   "source": [
    "import cv2"
   ]
  },
  {
   "cell_type": "code",
   "execution_count": 5,
   "id": "e04ba423-f64e-4987-ac06-a76e97c31630",
   "metadata": {},
   "outputs": [
    {
     "ename": "TypeError",
     "evalue": "Argument 'delay' is required to be an integer",
     "output_type": "error",
     "traceback": [
      "\u001b[1;31m---------------------------------------------------------------------------\u001b[0m",
      "\u001b[1;31mTypeError\u001b[0m                                 Traceback (most recent call last)",
      "Cell \u001b[1;32mIn[5], line 8\u001b[0m\n\u001b[0;32m      5\u001b[0m win\u001b[38;5;241m=\u001b[39m\u001b[38;5;124m\"\u001b[39m\u001b[38;5;124mtest\u001b[39m\u001b[38;5;124m\"\u001b[39m\n\u001b[0;32m      6\u001b[0m cv2\u001b[38;5;241m.\u001b[39mnamedWindow(win,cv2\u001b[38;5;241m.\u001b[39mWINDOW_NORMAL)\n\u001b[1;32m----> 8\u001b[0m \u001b[38;5;28;01mwhile\u001b[39;00m cv2\u001b[38;5;241m.\u001b[39mwaitKey(\u001b[38;5;241m0.1\u001b[39m) \u001b[38;5;241m!=\u001b[39m\u001b[38;5;241m27\u001b[39m:\n\u001b[0;32m      9\u001b[0m     stat,frame\u001b[38;5;241m=\u001b[39mcam\u001b[38;5;241m.\u001b[39mread()\n\u001b[0;32m     10\u001b[0m     \u001b[38;5;28;01mif\u001b[39;00m \u001b[38;5;129;01mnot\u001b[39;00m stat:\n",
      "\u001b[1;31mTypeError\u001b[0m: Argument 'delay' is required to be an integer"
     ]
    }
   ],
   "source": [
    "cam=cv2.VideoCapture(0)\n",
    "w=int(cam.get(3))\n",
    "h=int(cam.get(4))\n",
    "writer=cv2.VideoWriter(\"Recording.mp4\",cv2.VideoWriter_fourcc(*\"XVID\"),10,(w,h))\n",
    "win=\"test\"\n",
    "cv2.namedWindow(win,cv2.WINDOW_NORMAL)\n",
    "\n",
    "while cv2.waitKey(1) !=27:\n",
    "    stat,frame=cam.read()\n",
    "    if not stat:\n",
    "        break\n",
    "    frame=frame[:,::-1,:]\n",
    "    writer.write(frame)\n",
    "    cv2.imshow(win,frame)\n",
    "\n",
    "cam.release()\n",
    "writer.release()\n",
    "cv2.destroyWindow(win)"
   ]
  }
 ],
 "metadata": {
  "kernelspec": {
   "display_name": "Python 3 (ipykernel)",
   "language": "python",
   "name": "python3"
  },
  "language_info": {
   "codemirror_mode": {
    "name": "ipython",
    "version": 3
   },
   "file_extension": ".py",
   "mimetype": "text/x-python",
   "name": "python",
   "nbconvert_exporter": "python",
   "pygments_lexer": "ipython3",
   "version": "3.12.9"
  }
 },
 "nbformat": 4,
 "nbformat_minor": 5
}
