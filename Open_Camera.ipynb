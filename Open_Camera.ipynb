{
 "cells": [
  {
   "cell_type": "code",
   "execution_count": 1,
   "id": "251c3464-84b1-43b9-9e5c-dc0683e57e19",
   "metadata": {},
   "outputs": [],
   "source": [
    "import cv2\n",
    "\n",
    "source = cv2.VideoCapture(0)\n",
    "\n",
    "win_name = 'Camera Preview'\n",
    "cv2.namedWindow(win_name, cv2.WINDOW_NORMAL)\n",
    "\n",
    "while cv2.waitKey(1) != 27: # Escape\n",
    "    has_frame, frame = source.read()\n",
    "    if not has_frame:\n",
    "        break\n",
    "    cv2.imshow(win_name, frame)\n",
    "    \n",
    "source.release()\n",
    "cv2.destroyWindow(win_name)"
   ]
  }
 ],
 "metadata": {
  "kernelspec": {
   "display_name": "Python 3 (ipykernel)",
   "language": "python",
   "name": "python3"
  },
  "language_info": {
   "codemirror_mode": {
    "name": "ipython",
    "version": 3
   },
   "file_extension": ".py",
   "mimetype": "text/x-python",
   "name": "python",
   "nbconvert_exporter": "python",
   "pygments_lexer": "ipython3",
   "version": "3.12.9"
  }
 },
 "nbformat": 4,
 "nbformat_minor": 5
}
